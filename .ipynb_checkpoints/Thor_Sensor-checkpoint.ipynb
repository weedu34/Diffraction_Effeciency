{
 "cells": [
  {
   "cell_type": "code",
   "execution_count": null,
   "id": "e06f44d2-f7aa-41fd-a68d-54cb21c05001",
   "metadata": {},
   "outputs": [],
   "source": [
    "from ThorlabsPM100 import ThorlabsPM100\n",
    " \n",
    "# Initialize the power meter\n",
    "power_meter = ThorlabsPM100(inst=inst)\n",
    "\n",
    "# Connect to the device (replace 'USB0::0x1313::0x8078::P1003811::INSTR' with your specific device address)\n",
    "power_meter.connect('USB0::0x1313::0x8022::M00533936::INSTR')\n",
    "\n",
    "# Query the power reading\n",
    "power_reading = power_meter.read\n",
    "\n",
    "# Print the power reading\n",
    "print(f'Power Reading: {power_reading} Watts')\n",
    "\n",
    "# Disconnect from the device\n",
    "power_meter.disconnect()\n"
   ]
  },
  {
   "cell_type": "code",
   "execution_count": null,
   "id": "735fd439-8fd8-4d4f-b94c-1be7df5be0ba",
   "metadata": {},
   "outputs": [],
   "source": [
    "import visa\n",
    "print('Hello World!')\n"
   ]
  },
  {
   "cell_type": "code",
   "execution_count": null,
   "id": "49aa5fe0-7795-4ca8-baee-8eee7106a411",
   "metadata": {},
   "outputs": [],
   "source": [
    "pip install visa"
   ]
  },
  {
   "cell_type": "code",
   "execution_count": null,
   "id": "4c85cc11-7d3b-474c-b57a-62aba7dce70d",
   "metadata": {},
   "outputs": [],
   "source": [
    "import pyvisa\n",
    "from ThorlabsPM100 import ThorlabsPM100\n",
    "rm = pyvisa.ResourceManager()\n",
    "inst = rm.open_resource('USB0::0x1313::0x8022::M00533936::INSTR')\n",
    "power_meter = ThorlabsPM100(inst=inst)"
   ]
  },
  {
   "cell_type": "code",
   "execution_count": null,
   "id": "5d46816a-778c-4eb2-977c-ecbb281e3ec8",
   "metadata": {},
   "outputs": [],
   "source": [
    "import pyvisa\n",
    "rm = pyvisa.ResourceManager()\n",
    "rm.list_resources()"
   ]
  },
  {
   "cell_type": "code",
   "execution_count": null,
   "id": "1e9e8535-428e-40aa-a0a4-367293857b98",
   "metadata": {},
   "outputs": [],
   "source": [
    "inst = rm.open_resource('USB0::0x1313::0x8022::M00533936::INSTR')"
   ]
  },
  {
   "cell_type": "code",
   "execution_count": null,
   "id": "05c298d2-1572-4f7c-96ae-67bb23a16601",
   "metadata": {},
   "outputs": [],
   "source": [
    "a = float(power_meter.read())"
   ]
  },
  {
   "cell_type": "code",
   "execution_count": null,
   "id": "b185e7c7-f569-40e0-957c-b878dc961d73",
   "metadata": {},
   "outputs": [],
   "source": [
    "import pyvisa\n",
    "from ThorlabsPM100 import ThorlabsPM100\n",
    "rm = pyvisa.ResourceManager()\n",
    "inst = rm.open_resource('USB0::0x1313::0x8022::M00533936::INSTR')\n",
    "\n",
    "power_meter = ThorlabsPM100(inst = inst)\n",
    "\n",
    "\n",
    "print(\"Current value    :\", power_meter.read)\n"
   ]
  },
  {
   "cell_type": "code",
   "execution_count": null,
   "id": "2962a142-4488-4052-b791-d5fcc693df13",
   "metadata": {},
   "outputs": [],
   "source": [
    "import pyvisa\n",
    "resource_manager = pyvisa.ResourceManager()\n",
    "# You can change the variable name and resource name\n",
    "ins_ngm202 = resource_manager.open_resource('USB0::0x1313::0x8022::M00533936::INSTR')\n",
    "print(ins_ngm202.query(\"*IDN?\"))\n",
    "ins_ngm202.close()"
   ]
  },
  {
   "cell_type": "code",
   "execution_count": null,
   "id": "da4a8c10-d6ba-4ee1-8853-e42bba879e0a",
   "metadata": {},
   "outputs": [],
   "source": [
    "import pyvisa\n",
    "resource_manager = pyvisa.ResourceManager()\n",
    "# You can change the variable name and resource name\n",
    "ins_ngm202 = resource_manager.open_resource('USB0::0x1313::0x8022::M00533936::INSTR')\n",
    "ins_ngm202.write(\"BEEP\")\n",
    "ins_ngm202.close()"
   ]
  },
  {
   "cell_type": "code",
   "execution_count": null,
   "id": "6da81344-13bf-4077-a566-c16c344b0370",
   "metadata": {},
   "outputs": [],
   "source": [
    "import pyvisa\n",
    "import time\n",
    "# Open communication with the power meter\n",
    "rm = pyvisa.ResourceManager()\n",
    "power_meter = rm.open_resource('USB0::0x1313::0x8022::M00533936::INSTR')\n",
    "print(power_meter.query(\"*IDN?\"))  # Query instrument identification\n",
    "power_meter.write(\":FETCH:POW[1]:VAL?\")\n",
    "power = power_meter.write(\":MEAS:INIT[1]\")\n",
    "\n",
    "#power = power_meter.query_ascii_values(\":FETCH:POW[1]:VAL?\")\n",
    "# # Send the command to read power\n",
    "# Power = power_meter.query_ascii_values(\":FETCH:POW[1,2]:VAL?\")\n",
    "# print(Power)\n",
    "\n"
   ]
  },
  {
   "cell_type": "code",
   "execution_count": null,
   "id": "c371c43a-93c7-493a-a156-939c07270f70",
   "metadata": {},
   "outputs": [],
   "source": [
    "print(power_meter.write(\":FETCH:POW[2]:VAL?\"))"
   ]
  },
  {
   "cell_type": "code",
   "execution_count": null,
   "id": "08712224-5ecb-49ef-9694-6950750f5994",
   "metadata": {},
   "outputs": [],
   "source": [
    "print(power)"
   ]
  },
  {
   "cell_type": "code",
   "execution_count": 2,
   "id": "04a6f855-4765-4ae6-b8d8-20470d390619",
   "metadata": {},
   "outputs": [
    {
     "name": "stdout",
     "output_type": "stream",
     "text": [
      "Resources detected\n",
      "('USB0::0x1313::0x8022::M00533936::INSTR',)\n",
      "\n"
     ]
    }
   ],
   "source": [
    "import pyvisa\n",
    "from time import sleep # for delays\n",
    "import os # for datalogging\n",
    "\n",
    "rm = pyvisa.ResourceManager()\n",
    "# List all connected resources\n",
    "print(\"Resources detected\\n{}\\n\".format(rm.list_resources()))"
   ]
  },
  {
   "cell_type": "code",
   "execution_count": 21,
   "id": "7792ca59-d7ad-44cf-8687-1740b17516b8",
   "metadata": {},
   "outputs": [
    {
     "name": "stdout",
     "output_type": "stream",
     "text": [
      "Opening connection...\n",
      "Sending command...\n",
      "Received response: 4.20787592E-06\n",
      "\n",
      "Closing connection...\n"
     ]
    }
   ],
   "source": [
    "print(\"Opening connection...\")\n",
    "instrument = rm.open_resource('USB0::0x1313::0x8022::M00533936::INSTR', timeout=5000)\n",
    "\n",
    "print(\"Sending command...\")\n",
    "command = ':POW2:VAL?'\n",
    "power_value = instrument.query(command)\n",
    "\n",
    "print(f\"Received response: {power_value}\")\n",
    "\n",
    "print(\"Closing connection...\")\n",
    "instrument.close()\n"
   ]
  },
  {
   "cell_type": "code",
   "execution_count": null,
   "id": "2ad42bc3-7336-4bbd-bb5a-3565bddf5679",
   "metadata": {},
   "outputs": [],
   "source": [
    "pow = dmm.write(':FETCH:POW[1]:VAL?')"
   ]
  },
  {
   "cell_type": "code",
   "execution_count": null,
   "id": "78f81b6f-befa-42dd-aebb-e4e23726c0a6",
   "metadata": {},
   "outputs": [],
   "source": [
    "print(hex(dmm.write(':SENS[1]:TYPE?')))"
   ]
  },
  {
   "cell_type": "code",
   "execution_count": null,
   "id": "807dda3a-32d4-46fc-bea0-2ca4fae0e9ac",
   "metadata": {},
   "outputs": [],
   "source": [
    "print(hex(pow))"
   ]
  },
  {
   "cell_type": "code",
   "execution_count": null,
   "id": "e0c2d2e2-0757-49e2-805a-3304ff285ba7",
   "metadata": {},
   "outputs": [],
   "source": [
    "dmm.write(':MEAS:INIT[1]')"
   ]
  },
  {
   "cell_type": "code",
   "execution_count": null,
   "id": "85171f85-870e-4eba-a973-a6b1b32d2320",
   "metadata": {},
   "outputs": [],
   "source": [
    "dmm.read(':FETCH:POW[1]:VAL?')\n",
    "dmm.close()"
   ]
  },
  {
   "cell_type": "code",
   "execution_count": null,
   "id": "e2b75ca1-def9-4466-9ee4-b4b7ba18bb5e",
   "metadata": {},
   "outputs": [],
   "source": []
  }
 ],
 "metadata": {
  "kernelspec": {
   "display_name": "Python 3 (ipykernel)",
   "language": "python",
   "name": "python3"
  },
  "language_info": {
   "codemirror_mode": {
    "name": "ipython",
    "version": 3
   },
   "file_extension": ".py",
   "mimetype": "text/x-python",
   "name": "python",
   "nbconvert_exporter": "python",
   "pygments_lexer": "ipython3",
   "version": "3.10.13"
  }
 },
 "nbformat": 4,
 "nbformat_minor": 5
}
