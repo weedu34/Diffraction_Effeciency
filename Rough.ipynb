{
 "cells": [
  {
   "cell_type": "code",
   "execution_count": null,
   "id": "5826f342-0056-44f9-833e-ed3c0d39d9f7",
   "metadata": {},
   "outputs": [],
   "source": [
    "from PyQt5.QtWidgets import *  class sliderdemo(QWidget):    def __init__(self, parent = None):       super(sliderdemo, self).__init__(parent)       layout = QVBoxLayout()       self.l1 = QLabel(\"Hello\")       self.l1.setAlignment(Qt.AlignCenter)       layout.addWidget(self.l1)          self.sl = QSlider(Qt.Horizontal)       self.sl.setMinimum(10)       self.sl.setMaximum(30)       self.sl.setValue(20)       self.sl.setTickPosition(QSlider.TicksBelow)       self.sl.setTickInterval(5)          layout.addWidget(self.sl)       self.sl.valueChanged.connect(self.valuechange)       self.setLayout(layout)       self.setWindowTitle(\"Slider Demo\")     def valuechange(self):       size = self.sl.value()       self.l1.setFont(QFont(\"Arial\",size))    def main():    app = QApplication(sys.argv)    ex = sliderdemo()    ex.show()    sys.exit(app.exec_())   if __name__ == '__main__':    main() "
   ]
  },
  {
   "cell_type": "code",
   "execution_count": 1,
   "id": "f7d0a2d6-5a30-433b-989b-b1ed00f62733",
   "metadata": {},
   "outputs": [
    {
     "ename": "SystemExit",
     "evalue": "0",
     "output_type": "error",
     "traceback": [
      "An exception has occurred, use %tb to see the full traceback.\n",
      "\u001b[1;31mSystemExit\u001b[0m\u001b[1;31m:\u001b[0m 0\n"
     ]
    },
    {
     "name": "stderr",
     "output_type": "stream",
     "text": [
      "C:\\Users\\Student\\anaconda3\\envs\\diffraction\\lib\\site-packages\\IPython\\core\\interactiveshell.py:3534: UserWarning: To exit: use 'exit', 'quit', or Ctrl-D.\n",
      "  warn(\"To exit: use 'exit', 'quit', or Ctrl-D.\", stacklevel=1)\n"
     ]
    }
   ],
   "source": [
    "import sys\n",
    "from PyQt5.QtWidgets import QApplication, QWidget, QLabel, QLineEdit, QVBoxLayout\n",
    "\n",
    "class LineEditExample(QWidget):\n",
    "    def __init__(self):\n",
    "        super().__init__()\n",
    "\n",
    "        self.initUI()\n",
    "\n",
    "    def initUI(self):\n",
    "        # Create a QVBoxLayout for the main layout\n",
    "        main_layout = QVBoxLayout()\n",
    "\n",
    "        # Add a heading label\n",
    "        heading_label = QLabel('Heading for LineEdit', self)\n",
    "        heading_label.setStyleSheet(\"font-size: 16pt; font-weight: bold;\")\n",
    "        main_layout.addWidget(heading_label)\n",
    "\n",
    "        # Add a QLabel and QLineEdit to the main layout\n",
    "        label = QLabel('Input:', self)\n",
    "        line_edit = QLineEdit(self)\n",
    "\n",
    "        main_layout.addWidget(label)\n",
    "        main_layout.addWidget(line_edit)\n",
    "\n",
    "        self.setLayout(main_layout)\n",
    "        self.setWindowTitle('LineEdit Example')\n",
    "        self.setGeometry(100, 100, 400, 300)\n",
    "\n",
    "if __name__ == '__main__':\n",
    "    app = QApplication(sys.argv)\n",
    "    ex = LineEditExample()\n",
    "    ex.show()\n",
    "    sys.exit(app.exec_())\n"
   ]
  },
  {
   "cell_type": "code",
   "execution_count": null,
   "id": "24f22a41-c0a4-4cff-8244-98af33df98f3",
   "metadata": {},
   "outputs": [],
   "source": []
  }
 ],
 "metadata": {
  "kernelspec": {
   "display_name": "Python 3 (ipykernel)",
   "language": "python",
   "name": "python3"
  },
  "language_info": {
   "codemirror_mode": {
    "name": "ipython",
    "version": 3
   },
   "file_extension": ".py",
   "mimetype": "text/x-python",
   "name": "python",
   "nbconvert_exporter": "python",
   "pygments_lexer": "ipython3",
   "version": "3.10.13"
  }
 },
 "nbformat": 4,
 "nbformat_minor": 5
}
