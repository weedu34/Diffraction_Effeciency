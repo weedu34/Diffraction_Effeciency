{
 "cells": [
  {
   "cell_type": "code",
   "execution_count": 1,
   "id": "142f1643-62b6-4402-ac27-e0197844d29f",
   "metadata": {},
   "outputs": [],
   "source": [
    "import pickle\n",
    "import numpy as np\n",
    "import matplotlib.pyplot as plt"
   ]
  },
  {
   "cell_type": "code",
   "execution_count": 4,
   "id": "87353d9c-84d4-4fea-9298-c23bd7d69784",
   "metadata": {},
   "outputs": [
    {
     "data": {
      "text/plain": [
       "[{'Current X-axis': 117.9985,\n",
       "  'Current Y-axis': 0.0,\n",
       "  'Ch1': '1.05063657E-06\\n',\n",
       "  'Ch2': '3.99779174E-06\\n'},\n",
       " {'Current X-axis': 118.9984,\n",
       "  'Current Y-axis': 0.0,\n",
       "  'Ch1': '1.05055949E-06\\n',\n",
       "  'Ch2': '3.99050532E-06\\n'},\n",
       " {'Current X-axis': 119.9983,\n",
       "  'Current Y-axis': 0.0,\n",
       "  'Ch1': '1.04084586E-06\\n',\n",
       "  'Ch2': '3.98028669E-06\\n'},\n",
       " {'Current X-axis': 117.9982,\n",
       "  'Current Y-axis': 1.0039,\n",
       "  'Ch1': '1.03070136E-06\\n',\n",
       "  'Ch2': '3.95451843E-06\\n'},\n",
       " {'Current X-axis': 118.9981,\n",
       "  'Current Y-axis': 1.0039,\n",
       "  'Ch1': '1.04747005E-06\\n',\n",
       "  'Ch2': '3.97991289E-06\\n'},\n",
       " {'Current X-axis': 119.998,\n",
       "  'Current Y-axis': 1.0039,\n",
       "  'Ch1': '1.04952971E-06\\n',\n",
       "  'Ch2': '3.99343480E-06\\n'},\n",
       " {'Current X-axis': 117.998,\n",
       "  'Current Y-axis': 2.0005,\n",
       "  'Ch1': '1.06438529E-06\\n',\n",
       "  'Ch2': '3.99636474E-06\\n'},\n",
       " {'Current X-axis': 118.9979,\n",
       "  'Current Y-axis': 2.0005,\n",
       "  'Ch1': '1.05045990E-06\\n',\n",
       "  'Ch2': '3.99967121E-06\\n'},\n",
       " {'Current X-axis': 119.9978,\n",
       "  'Current Y-axis': 2.0005,\n",
       "  'Ch1': '1.05294953E-06\\n',\n",
       "  'Ch2': '3.99448527E-06\\n'}]"
      ]
     },
     "execution_count": 4,
     "metadata": {},
     "output_type": "execute_result"
    }
   ],
   "source": [
    "with open('Measurement_DOE.pkl', 'rb') as f:\n",
    "    Measurement_DOE = pickle.load(f)\n",
    "with open('Measurement_Reference.pkl', 'rb') as f:\n",
    "    Measurement_Reference = pickle.load(f)\n",
    "Measurement_Reference"
   ]
  },
  {
   "cell_type": "code",
   "execution_count": 6,
   "id": "914e8b0c-c34c-40b6-87a4-5f522433f059",
   "metadata": {},
   "outputs": [
    {
     "data": {
      "text/plain": [
       "0.9966190087528345"
      ]
     },
     "execution_count": 6,
     "metadata": {},
     "output_type": "execute_result"
    }
   ],
   "source": [
    "key_sensor= 'Ch1'\n",
    "sensor_value_Reference = [float(d[key_sensor]) for d in Measurement_Reference]\n",
    "sum_sensor_Reference = sum(sensor_value_Reference)\n",
    "sensor_value_DOE = [float(d[key_sensor]) for d in Measurement_DOE]\n",
    "sum_sensor_DOE = sum(sensor_value_DOE)\n",
    "effeciency = sum_sensor_Reference/sum_sensor_DOE\n",
    "effeciency"
   ]
  },
  {
   "cell_type": "code",
   "execution_count": null,
   "id": "3b0b378a-1f40-4f01-aa3d-830af92f519a",
   "metadata": {},
   "outputs": [],
   "source": [
    "plt.plot(xaxis,sensor)"
   ]
  },
  {
   "cell_type": "code",
   "execution_count": null,
   "id": "1605036c-89c3-4246-a60f-f9d2db421508",
   "metadata": {},
   "outputs": [],
   "source": []
  }
 ],
 "metadata": {
  "kernelspec": {
   "display_name": "Python 3 (ipykernel)",
   "language": "python",
   "name": "python3"
  },
  "language_info": {
   "codemirror_mode": {
    "name": "ipython",
    "version": 3
   },
   "file_extension": ".py",
   "mimetype": "text/x-python",
   "name": "python",
   "nbconvert_exporter": "python",
   "pygments_lexer": "ipython3",
   "version": "3.10.13"
  }
 },
 "nbformat": 4,
 "nbformat_minor": 5
}
